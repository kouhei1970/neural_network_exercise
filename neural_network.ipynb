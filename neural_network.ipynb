{
 "cells": [
  {
   "cell_type": "code",
   "execution_count": 32,
   "id": "29df126d-5f3a-4390-b9ba-47605e4c0a57",
   "metadata": {},
   "outputs": [
    {
     "data": {
      "image/png": "[encoded data removed]",
      "text/plain": [
       "<Figure size 640x480 with 1 Axes>"
      ]
     },
     "metadata": {},
     "output_type": "display_data"
    }
   ],
   "source": [
    "import numpy as np\n",
    "import matplotlib.pyplot as plt\n",
    "\n",
    "#make Neural network\n",
    "Nin = 3\n",
    "M1 = 7\n",
    "M2 = 8\n",
    "W1 = np.random.random([M1,Nin])\n",
    "b1 = np.random.random([M1,1])\n",
    "W2 = np.random.random([M2, M1])\n",
    "b2 = np.random.random([M2,1])\n",
    "network = [W1,W2,b1,b2]\n",
    "\n",
    "def relu(x):\n",
    "    return np.maximum(0, x)\n",
    "\n",
    "def softmax(a):\n",
    "    c = np.max(a)\n",
    "    exp_a = np.exp(a - c)\n",
    "    sum_exp_a = np.sum(exp_a)\n",
    "    y = exp_a / sum_exp_a\n",
    "    return y\n",
    "\n",
    "def loss_function(y,t):\n",
    "    #return sum(0.5*(y-t)**2)\n",
    "    return -np.sum(t*np.log(y))\n",
    "\n",
    "def forward(network, x):\n",
    "    W1 = network[0]\n",
    "    W2 = network[1]\n",
    "    b1 = network[2]\n",
    "    b2 = network[3]\n",
    "    y1 = relu(W1@x  + b1)\n",
    "    y2 = softmax(W2@y1 + b2)    \n",
    "    return y2\n",
    "\n",
    "#ランダムに入力を作る\n",
    "def make_input():\n",
    "    x0 = int(np.random.random()<0.5)\n",
    "    x1 = int(np.random.random()<0.5)\n",
    "    x2 = int(np.random.random()<0.5)\n",
    "    teach = x2*4 + x1*2 + x0\n",
    "    x  = np.array([[x2],[x1],[x0]])\n",
    "    teach = np.array([[int(teach==0)],\\\n",
    "                      [int(teach==1)],\\\n",
    "                      [int(teach==2)],\\\n",
    "                      [int(teach==3)],\\\n",
    "                      [int(teach==4)],\\\n",
    "                      [int(teach==5)],\\\n",
    "                      [int(teach==6)],\\\n",
    "                      [int(teach==7)]])\n",
    "    return x, teach\n",
    "\n",
    "def numerical_deff(y1,y2,h):\n",
    "    return (y2-y1)/2/h\n",
    "\n",
    "def calc_grad(network):\n",
    "    index=0\n",
    "    for W in network:\n",
    "        network1 = copy(network)\n",
    "        raw, col = np.shape(W)\n",
    "        grad=np.zeros([raw, col])\n",
    "        for m in range(raw):\n",
    "            for n in range(col):\n",
    "                #W1 = network[0]\n",
    "                Wn = np.copy(W)\n",
    "                Wn[m,n] = W[m,n] - h\n",
    "                network1 = [W1n,W2,b1,b2]\n",
    "                out1 = forward(network1, x) \n",
    "                loss1 = loss_function(out1, teach)\n",
    "                W1n[m,n] = W1[m,n] + h\n",
    "                network1 = [W1n,W2,b1,b2]\n",
    "                out2 = forward(network1, x) \n",
    "                loss2 = loss_function(out2, teach)\n",
    "                #print(loss2,loss1)\n",
    "                grad1[m, n] = numerical_deff(loss1, loss2, h)\n",
    "        index+=1\n",
    "\n",
    "COUNT=[]\n",
    "LOSS=[]\n",
    "\n",
    "h=1e-6;\n",
    "rho = 0.1\n",
    "\n",
    "#学習\n",
    "for i in range(1000):\n",
    "    x, teach = make_input()\n",
    "    W1 = network[0]\n",
    "    W2 = network[1]\n",
    "    b1 = network[2]\n",
    "    b2 = network[3]\n",
    "\n",
    "    #数値偏微分\n",
    "    grad1=np.zeros([M1, Nin])\n",
    "    raw, col = np.shape(W1)\n",
    "    for m in range(raw):\n",
    "        for n in range(col):\n",
    "            W1 = network[0]\n",
    "            W1n = np.copy(W1)\n",
    "            W1n[m,n] = W1[m,n] - h\n",
    "            network1 = [W1n,W2,b1,b2]\n",
    "            out1 = forward(network1, x) \n",
    "            loss1 = loss_function(out1, teach)\n",
    "            W1n[m,n] = W1[m,n] + h\n",
    "            network1 = [W1n,W2,b1,b2]\n",
    "            out2 = forward(network1, x) \n",
    "            loss2 = loss_function(out2, teach)\n",
    "            #print(loss2,loss1)\n",
    "            grad1[m, n] = numerical_deff(loss1, loss2, h)\n",
    "\n",
    "    grad2=np.zeros([M2, M1])\n",
    "    for m in range(M2):\n",
    "        for n in range(M1):\n",
    "            W2 = network[1]\n",
    "            W2n = np.copy(W2)\n",
    "            W2n[m,n] = W2[m,n] - h\n",
    "            network1 = [W1,W2n,b1,b2]\n",
    "            out1 = forward(network1, x) \n",
    "            loss1 = loss_function(out1, teach)\n",
    "            W2n[m,n] = W2n[m,n] + 2*h\n",
    "            network1 = [W1,W2n,b1,b2]\n",
    "            out2 = forward(network1, x) \n",
    "            loss2 = loss_function(out2, teach)\n",
    "            #print(loss2,loss1)\n",
    "            grad2[m, n] = numerical_deff(loss1, loss2, h)\n",
    "\n",
    "    grad3=np.zeros([M1, 1])\n",
    "    for m in range(M1):\n",
    "        for n in range(1):\n",
    "            b1 = network[2]\n",
    "            b1n = np.copy(b1)\n",
    "            b1n[m,n] = b1[m,n] - h\n",
    "            network1 = [W1,W2,b1n,b2]\n",
    "            out1 = forward(network1, x) \n",
    "            loss1 = loss_function(out1, teach)\n",
    "            b1n[m,n] = b1n[m,n] + 2*h\n",
    "            network1 = [W1,W2,b1n,b2]\n",
    "            out2 = forward(network1, x) \n",
    "            loss2 = loss_function(out2, teach)\n",
    "            #print(loss2,loss1)\n",
    "            grad3[m, n] = numerical_deff(loss1, loss2, h)\n",
    "\n",
    "    grad4=np.zeros([M2, 1])\n",
    "    for m in range(M2):\n",
    "        for n in range(1):\n",
    "            b2 = network[3]\n",
    "            b2n = np.copy(b2)\n",
    "            b2n[m,n] = b2[m,n] - h\n",
    "            network1 = [W1,W2,b1,b2n]\n",
    "            out1 = forward(network1, x) \n",
    "            loss1 = loss_function(out1, teach)\n",
    "            b2n[m,n] = b2n[m,n] + 2*h\n",
    "            network1 = [W1,W2,b1,b2n]\n",
    "            out2 = forward(network1, x) \n",
    "            loss2 = loss_function(out2, teach)\n",
    "            #print(loss2,loss1)\n",
    "            grad4[m, n] = numerical_deff(loss1, loss2, h)\n",
    "\n",
    "    #重み更新\n",
    "    W1 = W1 - rho*grad1\n",
    "    W2 = W2 - rho*grad2\n",
    "    b1 = b1 - rho*grad3\n",
    "    b2 = b2 - rho*grad4\n",
    "\n",
    "\n",
    "    x, teach = make_input()\n",
    "    network = [W1,W2,b1,b2]\n",
    "    out = forward(network, x) \n",
    "    loss = loss_function(out, teach)\n",
    "    COUNT.append(i)\n",
    "    LOSS.append(loss)\n",
    "    \n",
    "plt.plot(COUNT, LOSS)\n",
    "plt.xlabel(\"epoch\")\n",
    "plt.ylabel(\"loss\")\n",
    "plt.grid()\n",
    "plt.show()\n",
    "    \n"
   ]
  },
  {
   "cell_type": "code",
   "execution_count": 24,
   "id": "74eba072-7870-4fc1-a8b9-be0eae8701da",
   "metadata": {},
   "outputs": [
    {
     "name": "stdout",
     "output_type": "stream",
     "text": [
      "input [6]\n",
      "output\n",
      " [[0.]\n",
      " [0.]\n",
      " [0.]\n",
      " [0.]\n",
      " [0.]\n",
      " [0.]\n",
      " [1.]\n",
      " [0.]]\n"
     ]
    }
   ],
   "source": [
    "#学習後のニューラルネットで確認\n",
    "x, teach = make_input()\n",
    "network = [W1,W2,b1,b2]\n",
    "out = forward(network, x)\n",
    "\n",
    "print(\"input\", x[2]+x[1]*2+x[0]*4)\n",
    "print(\"output\\n\", np.round(out))"
   ]
  },
  {
   "cell_type": "code",
   "execution_count": 25,
   "id": "c912a9a6-5ee1-4855-8542-3f66c39e1771",
   "metadata": {},
   "outputs": [
    {
     "data": {
      "text/plain": [
       "array([[-0.93725985,  1.58628492,  0.39473726],\n",
       "       [ 1.9864348 ,  0.82357594, -0.25554389],\n",
       "       [ 0.78014486,  3.07290504, -0.12021736],\n",
       "       [-0.00697741, -0.00893542,  3.80847547],\n",
       "       [-1.1587928 ,  1.08836066,  0.80222666],\n",
       "       [ 2.8985936 , -1.35159089,  0.22248678],\n",
       "       [ 0.96878427,  0.24260191,  0.97719889]])"
      ]
     },
     "execution_count": 25,
     "metadata": {},
     "output_type": "execute_result"
    }
   ],
   "source": [
    "W1"
   ]
  },
  {
   "cell_type": "code",
   "execution_count": 28,
   "id": "63a2b0c0",
   "metadata": {},
   "outputs": [],
   "source": [
    "m,n=np.shape(W1)"
   ]
  },
  {
   "cell_type": "code",
   "execution_count": 29,
   "id": "17e1dd20",
   "metadata": {},
   "outputs": [
    {
     "data": {
      "text/plain": [
       "7"
      ]
     },
     "execution_count": 29,
     "metadata": {},
     "output_type": "execute_result"
    }
   ],
   "source": [
    "m"
   ]
  },
  {
   "cell_type": "code",
   "execution_count": 30,
   "id": "015779ad",
   "metadata": {},
   "outputs": [
    {
     "data": {
      "text/plain": [
       "3"
      ]
     },
     "execution_count": 30,
     "metadata": {},
     "output_type": "execute_result"
    }
   ],
   "source": [
    "n"
   ]
  },
  {
   "cell_type": "code",
   "execution_count": 35,
   "id": "a35d0c3f",
   "metadata": {},
   "outputs": [
    {
     "name": "stdout",
     "output_type": "stream",
     "text": [
      "[[ 4.39611049e-01  3.50753162e+00 -3.43682093e-01]\n",
      " [ 3.09114748e-03 -2.97424424e-03  3.51609226e+00]\n",
      " [ 2.03126195e+00  1.61878470e-01  1.66327183e-01]\n",
      " [ 3.05071946e+00 -4.30327635e-01 -7.88881663e-02]\n",
      " [ 4.15037315e-01  1.06885635e+00  4.19104355e-01]\n",
      " [-3.97923305e-01  1.20837906e+00  1.45273025e+00]\n",
      " [-1.05992369e+00  4.35792172e-01 -2.53400584e-01]]\n",
      "\n",
      "[[-0.78329761 -0.76269328  0.32817788  0.05935312  0.40895792  0.09402467\n",
      "   2.43705773]\n",
      " [-1.23280343  2.30476939 -0.45181707 -0.22227195 -0.18076379  1.32912295\n",
      "   0.70402697]\n",
      " [ 2.16787516 -0.55575713 -0.55470753 -0.336333    0.45755786  0.58288485\n",
      "   1.24838585]\n",
      " [ 1.23286044  1.64270662  0.15056919 -1.35452823  1.08893255  1.47951431\n",
      "   0.50906888]\n",
      " [-0.19442288 -0.65223932  1.405895    2.5353248  -0.10844163 -0.73839942\n",
      "   0.10520576]\n",
      " [-0.87886739  1.95655217  1.38215789  1.48071785  0.44690785 -0.00324172\n",
      "  -0.26007722]\n",
      " [ 2.11171352 -1.00025034  1.32824513  1.27108096  1.00779423 -0.05168632\n",
      "  -0.081917  ]\n",
      " [ 1.39776029  1.29777396  1.18228427  0.78426324  1.0413555   0.99674468\n",
      "  -0.5616849 ]]\n",
      "\n",
      "[[ 3.21990696e-03]\n",
      " [ 3.38470010e-03]\n",
      " [-1.49969969e-01]\n",
      " [ 5.18434282e-01]\n",
      " [-4.05400002e-01]\n",
      " [ 1.77482975e-03]\n",
      " [ 2.16536754e+00]]\n",
      "\n",
      "[[ 2.72114323]\n",
      " [ 1.19185081]\n",
      " [ 0.66728667]\n",
      " [-0.29742105]\n",
      " [ 0.71257674]\n",
      " [ 0.12783637]\n",
      " [-0.44265252]\n",
      " [-0.87939717]]\n",
      "\n"
     ]
    }
   ],
   "source": [
    "for w in network:\n",
    "    print(w)\n",
    "    print()"
   ]
  },
  {
   "cell_type": "code",
   "execution_count": 37,
   "id": "dd9055a8",
   "metadata": {},
   "outputs": [],
   "source": [
    "a=[1,2,3]"
   ]
  },
  {
   "cell_type": "code",
   "execution_count": 38,
   "id": "a0600e1c",
   "metadata": {},
   "outputs": [],
   "source": [
    "b=a"
   ]
  },
  {
   "cell_type": "code",
   "execution_count": 39,
   "id": "a4e1679c",
   "metadata": {},
   "outputs": [
    {
     "data": {
      "text/plain": [
       "[1, 2, 3]"
      ]
     },
     "execution_count": 39,
     "metadata": {},
     "output_type": "execute_result"
    }
   ],
   "source": [
    "b"
   ]
  },
  {
   "cell_type": "code",
   "execution_count": 41,
   "id": "d3017985",
   "metadata": {},
   "outputs": [],
   "source": [
    "b[1]=0"
   ]
  },
  {
   "cell_type": "code",
   "execution_count": 42,
   "id": "02b7c6f0",
   "metadata": {},
   "outputs": [
    {
     "data": {
      "text/plain": [
       "[1, 0, 3]"
      ]
     },
     "execution_count": 42,
     "metadata": {},
     "output_type": "execute_result"
    }
   ],
   "source": [
    "b"
   ]
  },
  {
   "cell_type": "code",
   "execution_count": 43,
   "id": "fdbb20eb",
   "metadata": {},
   "outputs": [
    {
     "data": {
      "text/plain": [
       "[1, 0, 3]"
      ]
     },
     "execution_count": 43,
     "metadata": {},
     "output_type": "execute_result"
    }
   ],
   "source": [
    "a"
   ]
  },
  {
   "cell_type": "code",
   "execution_count": null,
   "id": "9e090e0f",
   "metadata": {},
   "outputs": [],
   "source": []
  }
 ],
 "metadata": {
  "kernelspec": {
   "display_name": "Python 3 (ipykernel)",
   "language": "python",
   "name": "python3"
  },
  "language_info": {
   "codemirror_mode": {
    "name": "ipython",
    "version": 3
   },
   "file_extension": ".py",
   "mimetype": "text/x-python",
   "name": "python",
   "nbconvert_exporter": "python",
   "pygments_lexer": "ipython3",
   "version": "3.9.7"
  }
 },
 "nbformat": 4,
 "nbformat_minor": 5
}
